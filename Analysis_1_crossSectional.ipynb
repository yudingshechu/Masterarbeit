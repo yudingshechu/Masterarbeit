{
 "cells": [
  {
   "cell_type": "code",
   "execution_count": 1,
   "metadata": {},
   "outputs": [],
   "source": [
    "import pandas as pd\n",
    "import numpy as np\n",
    "\n",
    "data2019 = pd.read_csv(\"./FullData2019.csv\")\n",
    "data2016 = pd.read_csv(\"./FullData2016.csv\")\n",
    "def FCSStaus(val):\n",
    "    if val <=35:\n",
    "        return 1\n",
    "    else:\n",
    "        return 0\n",
    "# create the binary food insecurity indicator\n",
    "data2019['FCSStaus'] = data2019['FCS'].apply(FCSStaus)\n",
    "# data2016['FCSStaus'] = data2016['FCS'].apply(FCSStaus)\n",
    "# imputation for NA, with mode  \n",
    "individual = ['HouseType', 'RoofType', 'WaterSource',\n",
    "       'DistDrinkingWater', 'ShareToilet', 'Income', 'Kind Income Ratio', 'Salt', 'SubjectivePoverty', 'RelLivStandard',\n",
    "       'IncomeStab', 'LivStandChange','MaleRatio', 'AvgAge', 'SelfArg', 'SelfHerd',\n",
    "       'OwnNow_ArgLand', 'valueNow_ArgLand', 'Own1yrAgo_ArgLand',\n",
    "       'ValueAgo_ArgLand', 'OwnNow_TV', 'valueNow_TV', 'Own1yrAgo_TV',\n",
    "       'ValueAgo_TV', 'OwnNow_FixPhone', 'valueNow_FixPhone',\n",
    "       'Own1yrAgo_FixPhone', 'ValueAgo_FixPhone', 'OwnNow_MobilePhone',\n",
    "       'valueNow_MobilePhone', 'Own1yrAgo_MobilePhone', 'ValueAgo_MobilePhone',\n",
    "       'OwnNow_Refrigerator', 'valueNow_Refrigerator',\n",
    "       'Own1yrAgo_Refrigerator', 'ValueAgo_Refrigerator', 'OwnNow_Furniture',\n",
    "       'valueNow_Furniture', 'Own1yrAgo_Furniture', 'ValueAgo_Furniture',\n",
    "       'OwnNow_Cooker', 'valueNow_Cooker', 'Own1yrAgo_Cooker',\n",
    "       'ValueAgo_Cooker', 'OwnNow_Livestock', 'valueNow_Livestock',\n",
    "       'Own1yrAgo_Livestock', 'ValueAgo_Livestock','valueNowTotal','ValueAgoTotal'] # ShareToilet and Salt are dummies \n",
    "\n",
    "for i in individual: \n",
    "    # data2016[i].fillna(data2016[i].mode()[0],inplace=True)\n",
    "    data2019[i].fillna(data2019[i].mode()[0],inplace=True)\n",
    "# wkd2016 = pd.get_dummies(data2016,columns=[\"ShareToilet\",\"Salt\"])\n",
    "wkd2019 = pd.get_dummies(data2019,columns=[\"ShareToilet\",\"Salt\"])\n",
    "\n",
    "# frequency encoding \n",
    "freq = ['HouseType', 'RoofType', 'WaterSource',\n",
    "       'DistDrinkingWater', 'SubjectivePoverty', 'RelLivStandard',\n",
    "       'IncomeStab', 'LivStandChange']\n",
    "# for i in freq: \n",
    "#     freqf = data2016.groupby(i).size()/len(data2016)\n",
    "#     wkd2016[f\"{i}_feq\"] = wkd2016[i].apply(lambda x : freqf[x])\n",
    "for j in freq: \n",
    "    freqf = data2019.groupby(j).size()/len(data2019)\n",
    "    wkd2019[f\"{j}_feq\"] = wkd2019[j].apply(lambda x : freqf[x])"
   ]
  },
  {
   "cell_type": "code",
   "execution_count": 2,
   "metadata": {},
   "outputs": [],
   "source": [
    "wkd2019['fatalitiesMean'] = wkd2019[['fatalities', 'fatalities lag1', 'fatalities lag2', 'fatalities lag3',\n",
    "       'fatalities lag4']].sum(axis=1)\n",
    "wkd2019['temperatureMean'] = wkd2019[['temperature', 'temperature lag1',\n",
    "       'temperature lag2', 'temperature lag3', 'temperature lag4']].mean(axis=1)\n",
    "wkd2019['precipitationMean'] = wkd2019[['precipitation', 'precipitation lag1', 'precipitation lag2',\n",
    "       'precipitation lag3', 'precipitation lag4']].mean(axis=1)\n",
    "wkd2019['NDVIMean'] = wkd2019[['NDVI', 'NDVI lag1', 'NDVI lag2', 'NDVI lag3', 'NDVI lag4']].mean(axis=1)\n",
    "wkd2019['NDVI Anomaly Mean'] = wkd2019[['NDVI Anomaly',\n",
    "       'NDVI Anomaly lag1', 'NDVI Anomaly lag2', 'NDVI Anomaly lag3',\n",
    "       'NDVI Anomaly lag4']].mean(axis=1)\n",
    "\n",
    "time_splitted_data_1920 = { }\n",
    "\n",
    "for y in [2019, 2020]:\n",
    "    for m in range(1,13):\n",
    "        if wkd2019.query(\"year == @y and month == @m\").shape[0] != 0: \n",
    "            time_splitted_data_1920[f\"{y}_{m}\"] = wkd2019.query(\"year == @y and month == @m\").reset_index(drop = True)\n",
    "        else: \n",
    "            continue "
   ]
  },
  {
   "cell_type": "code",
   "execution_count": 10,
   "metadata": {},
   "outputs": [],
   "source": [
    "from sklearn.preprocessing import StandardScaler\n",
    "from imblearn.over_sampling import SMOTE\n",
    "from imblearn.over_sampling import ADASYN\n",
    "from sklearn.linear_model import LogisticRegression\n",
    "from sklearn.metrics import confusion_matrix\n",
    "from sklearn.metrics import accuracy_score\n",
    "from sklearn.metrics import f1_score\n",
    "from sklearn.metrics import precision_score\n",
    "from sklearn.metrics import recall_score\n",
    "from sklearn.metrics import classification_report\n",
    "from sklearn.metrics import auc\n",
    "from sklearn.metrics import roc_auc_score\n",
    "from sklearn.model_selection import GridSearchCV\n",
    "import shap\n",
    "from sklearn.decomposition import PCA\n",
    "from sklearn.svm import SVC\n",
    "from sklearn.model_selection import train_test_split\n",
    "from sklearn.metrics import  make_scorer"
   ]
  },
  {
   "cell_type": "code",
   "execution_count": 185,
   "metadata": {},
   "outputs": [],
   "source": [
    "predictorList = ['mnts','urban','NL_District',\n",
    "       'fatalitiesMean', 'temperature', 'temperatureMean',\n",
    "       'precipitationMean', 'NDVIMean', 'NDVI Anomaly Mean', 'NDVI Anomaly',\n",
    "       'Rainfall (mm)', 'Average (mm)', '1 Month Anomaly (%)', '3 Months Anomaly (%)', 'Income', \n",
    "       'Kind Income Ratio','MaleRatio', 'AvgAge',\n",
    "       'SelfArg', 'SelfHerd', 'OwnNow_ArgLand', 'valueNow_ArgLand',\n",
    "       'OwnNow_TV', 'OwnNow_FixPhone',  'OwnNow_MobilePhone',\n",
    "       'OwnNow_Refrigerator', 'OwnNow_Furniture','valueNow_Furniture', \n",
    "       'OwnNow_Cooker', 'OwnNow_Livestock', 'valueNow_Livestock',\n",
    "        'ShareToilet_Yes', 'Salt_Yes',\n",
    "       'HouseType_feq', 'RoofType_feq', 'WaterSource_feq',\n",
    "       'DistDrinkingWater_feq', 'SubjectivePoverty_feq', 'RelLivStandard_feq',\n",
    "       'IncomeStab_feq', 'LivStandChange_feq','valueNowTotal']\n",
    "\n",
    "binaryList = ['mnts','urban','Salt_Yes','ShareToilet_Yes','SelfArg', 'SelfHerd', 'OwnNow_ArgLand',\n",
    "        'OwnNow_TV','OwnNow_FixPhone','OwnNow_MobilePhone', \n",
    "       'OwnNow_Refrigerator','OwnNow_Furniture',\n",
    "       'OwnNow_Cooker', 'OwnNow_Livestock']\n",
    "\n",
    "\n",
    "freqList = [f\"{i}_feq\" for i in freq]\n",
    "\n",
    "standardizationList = list(set(predictorList) - set(binaryList) - set(freqList))"
   ]
  },
  {
   "cell_type": "code",
   "execution_count": 5,
   "metadata": {},
   "outputs": [],
   "source": [
    "def StandardizerTrainTest(X_train, X_test, standardizationList, binaryList, freqList):\n",
    "    \"\"\"Standardization and prevent data leakage\n",
    "\n",
    "    Args:\n",
    "        X_train (pd.dataframe): training data\n",
    "        X_test (pd.dataframe): testing data\n",
    "        standardizationList (list): continuous variables needed to be standardized \n",
    "        binaryList (list): binary variables  \n",
    "\n",
    "    Returns:\n",
    "        pd.DataFrame: train, test \n",
    "    \"\"\"\n",
    "    std = StandardScaler()\n",
    "    std.fit(X_train[standardizationList])\n",
    "    x_train_standardized1 = pd.DataFrame(std.transform(X_train[standardizationList]),columns=standardizationList)\n",
    "    x_train_using = pd.concat([x_train_standardized1,X_train[binaryList], X_train[freqList]],axis=1)\n",
    "    # to prevent data leakage \n",
    "    x_test_standardized1 = pd.DataFrame(std.transform(X_test[standardizationList]),columns=standardizationList)\n",
    "    x_test_using = pd.concat([x_test_standardized1,X_test[binaryList], X_test[freqList]],axis=1)\n",
    "    return x_train_using, x_test_using\n",
    "\n",
    "def resampling(X_train, Y_train): \n",
    "    \"\"\"generate the resampling data\n",
    "\n",
    "    Args:\n",
    "        X_train (dataframe): X_train\n",
    "        Y_train (dataframe): X_train\n",
    "\n",
    "    Returns:\n",
    "        dataframe: X_smote, Y_smote, X_ADA, Y_ADA\n",
    "    \"\"\"\n",
    "    smote = SMOTE(random_state=527)\n",
    "    X_smote, Y_smote = smote.fit_resample(X_train,Y_train)\n",
    "    adasyn = ADASYN(random_state=527)\n",
    "    X_ADA , Y_ADA = adasyn.fit_resample(X_train, Y_train)\n",
    "    \n",
    "    return X_smote, Y_smote, X_ADA, Y_ADA"
   ]
  },
  {
   "cell_type": "code",
   "execution_count": 6,
   "metadata": {},
   "outputs": [
    {
     "data": {
      "text/plain": [
       "0"
      ]
     },
     "execution_count": 6,
     "metadata": {},
     "output_type": "execute_result"
    }
   ],
   "source": [
    "sum(wkd2019[predictorList].isna().sum(axis=0))"
   ]
  },
  {
   "cell_type": "code",
   "execution_count": 7,
   "metadata": {},
   "outputs": [],
   "source": [
    "X_train, X_test, y_train, y_test = train_test_split(wkd2019[predictorList], wkd2019[\"FCSStaus\"], test_size=0.2, random_state=527)\n",
    "X_train.reset_index(drop=True,inplace=True)\n",
    "X_test.reset_index(drop=True,inplace=True)\n",
    "y_train.reset_index(drop=True,inplace=True)\n",
    "y_test.reset_index(drop=True,inplace=True)\n",
    "Std_Train, Std_Test = StandardizerTrainTest(X_train, X_test, standardizationList, binaryList, freqList)"
   ]
  },
  {
   "cell_type": "code",
   "execution_count": 8,
   "metadata": {},
   "outputs": [
    {
     "data": {
      "text/plain": [
       "0    8764\n",
       "1    1877\n",
       "Name: FCSStaus, dtype: int64"
      ]
     },
     "execution_count": 8,
     "metadata": {},
     "output_type": "execute_result"
    }
   ],
   "source": [
    "y_train.value_counts()\n",
    "# 8764/1877"
   ]
  },
  {
   "attachments": {},
   "cell_type": "markdown",
   "metadata": {},
   "source": [
    "#### Basic RF"
   ]
  },
  {
   "cell_type": "code",
   "execution_count": 11,
   "metadata": {},
   "outputs": [
    {
     "data": {
      "text/plain": [
       "GridSearchCV(cv=5,\n",
       "             estimator=RandomForestClassifier(class_weight='balanced',\n",
       "                                              n_estimators=800, n_jobs=-1,\n",
       "                                              random_state=527),\n",
       "             param_grid={'max_depth': [3, 5, 7], 'max_features': [3, 6, 9],\n",
       "                         'min_samples_leaf': [20, 50, 80]},\n",
       "             scoring=make_scorer(recall_score, average=binary))"
      ]
     },
     "execution_count": 11,
     "metadata": {},
     "output_type": "execute_result"
    }
   ],
   "source": [
    "from sklearn.ensemble import RandomForestClassifier\n",
    "\n",
    "X_train = Std_Train\n",
    "Y_train = y_train\n",
    "\n",
    "X_test = Std_Test\n",
    "Y_test = y_test\n",
    "\n",
    "scoring = make_scorer(recall_score, greater_is_better=True, average='binary')\n",
    "\n",
    "RF = RandomForestClassifier(n_estimators=800,n_jobs=-1,random_state=527, class_weight='balanced')\n",
    "\n",
    "grid_rf = {\"min_samples_leaf\":[20,50,80],'max_depth':[3, 5, 7], 'max_features' : [3,6,9]}\n",
    "\n",
    "crossval_rf = GridSearchCV(RF,grid_rf,cv=5,scoring=scoring)\n",
    "\n",
    "crossval_rf.fit(X_train, Y_train)"
   ]
  },
  {
   "cell_type": "code",
   "execution_count": 12,
   "metadata": {},
   "outputs": [
    {
     "data": {
      "text/plain": [
       "{'max_depth': 3, 'max_features': 3, 'min_samples_leaf': 80}"
      ]
     },
     "execution_count": 12,
     "metadata": {},
     "output_type": "execute_result"
    }
   ],
   "source": [
    "crossval_rf.best_params_"
   ]
  },
  {
   "cell_type": "code",
   "execution_count": 13,
   "metadata": {},
   "outputs": [
    {
     "data": {
      "text/plain": [
       "GridSearchCV(cv=5,\n",
       "             estimator=RandomForestClassifier(class_weight='balanced',\n",
       "                                              n_estimators=1000, n_jobs=-1,\n",
       "                                              random_state=527),\n",
       "             param_grid={'max_depth': [3], 'max_features': [3],\n",
       "                         'min_samples_leaf': [80, 90, 100]},\n",
       "             scoring='recall_micro')"
      ]
     },
     "execution_count": 13,
     "metadata": {},
     "output_type": "execute_result"
    }
   ],
   "source": [
    "RF = RandomForestClassifier(n_estimators=1000,n_jobs=-1,random_state=527, class_weight='balanced')\n",
    "\n",
    "grid_rf = {\"min_samples_leaf\":[80,90,100],'max_depth':[3], 'max_features' : [3]}\n",
    "\n",
    "crossval_rf = GridSearchCV(RF,grid_rf,cv=5,scoring=\"recall_micro\")\n",
    "\n",
    "crossval_rf.fit(X_train, Y_train)"
   ]
  },
  {
   "cell_type": "code",
   "execution_count": 14,
   "metadata": {},
   "outputs": [
    {
     "data": {
      "text/plain": [
       "{'max_depth': 3, 'max_features': 3, 'min_samples_leaf': 80}"
      ]
     },
     "execution_count": 14,
     "metadata": {},
     "output_type": "execute_result"
    }
   ],
   "source": [
    "crossval_rf.best_params_"
   ]
  },
  {
   "cell_type": "code",
   "execution_count": 18,
   "metadata": {},
   "outputs": [
    {
     "data": {
      "text/html": [
       "<div>\n",
       "<style scoped>\n",
       "    .dataframe tbody tr th:only-of-type {\n",
       "        vertical-align: middle;\n",
       "    }\n",
       "\n",
       "    .dataframe tbody tr th {\n",
       "        vertical-align: top;\n",
       "    }\n",
       "\n",
       "    .dataframe thead th {\n",
       "        text-align: right;\n",
       "    }\n",
       "</style>\n",
       "<table border=\"1\" class=\"dataframe\">\n",
       "  <thead>\n",
       "    <tr style=\"text-align: right;\">\n",
       "      <th></th>\n",
       "      <th>precision</th>\n",
       "      <th>recall</th>\n",
       "      <th>f1-score</th>\n",
       "      <th>support</th>\n",
       "    </tr>\n",
       "  </thead>\n",
       "  <tbody>\n",
       "    <tr>\n",
       "      <th>0</th>\n",
       "      <td>0.906606</td>\n",
       "      <td>0.729940</td>\n",
       "      <td>0.808738</td>\n",
       "      <td>2181.000000</td>\n",
       "    </tr>\n",
       "    <tr>\n",
       "      <th>1</th>\n",
       "      <td>0.349171</td>\n",
       "      <td>0.658333</td>\n",
       "      <td>0.456318</td>\n",
       "      <td>480.000000</td>\n",
       "    </tr>\n",
       "    <tr>\n",
       "      <th>accuracy</th>\n",
       "      <td>0.717024</td>\n",
       "      <td>0.717024</td>\n",
       "      <td>0.717024</td>\n",
       "      <td>0.717024</td>\n",
       "    </tr>\n",
       "    <tr>\n",
       "      <th>macro avg</th>\n",
       "      <td>0.627889</td>\n",
       "      <td>0.694137</td>\n",
       "      <td>0.632528</td>\n",
       "      <td>2661.000000</td>\n",
       "    </tr>\n",
       "    <tr>\n",
       "      <th>weighted avg</th>\n",
       "      <td>0.806054</td>\n",
       "      <td>0.717024</td>\n",
       "      <td>0.745167</td>\n",
       "      <td>2661.000000</td>\n",
       "    </tr>\n",
       "  </tbody>\n",
       "</table>\n",
       "</div>"
      ],
      "text/plain": [
       "              precision    recall  f1-score      support\n",
       "0              0.906606  0.729940  0.808738  2181.000000\n",
       "1              0.349171  0.658333  0.456318   480.000000\n",
       "accuracy       0.717024  0.717024  0.717024     0.717024\n",
       "macro avg      0.627889  0.694137  0.632528  2661.000000\n",
       "weighted avg   0.806054  0.717024  0.745167  2661.000000"
      ]
     },
     "execution_count": 18,
     "metadata": {},
     "output_type": "execute_result"
    }
   ],
   "source": [
    "RF = RandomForestClassifier(n_estimators=1000,n_jobs=-1,random_state=527, **crossval_rf.best_params_, \n",
    "                            class_weight='balanced')\n",
    "\n",
    "RF.fit(X_train, Y_train)\n",
    "y_RFpredProb_train = RF.predict_proba(X_train)[:, 1]\n",
    "y_RFpred_test = RF.predict(X_test)\n",
    "y_RFpredProb_test = RF.predict_proba(X_test)[:, 1]\n",
    "\n",
    "report_pre = classification_report(Y_test, y_RFpred_test, output_dict=True)\n",
    "pd.DataFrame(report_pre).T"
   ]
  },
  {
   "cell_type": "code",
   "execution_count": 21,
   "metadata": {},
   "outputs": [
    {
     "data": {
      "text/plain": [
       "(0.7781963045898768, 0.6941368638239339)"
      ]
     },
     "execution_count": 21,
     "metadata": {},
     "output_type": "execute_result"
    }
   ],
   "source": [
    "roc_auc_score(Y_train, y_RFpredProb_train), roc_auc_score(Y_test, y_RFpred_test)"
   ]
  },
  {
   "cell_type": "code",
   "execution_count": 16,
   "metadata": {},
   "outputs": [
    {
     "data": {
      "text/html": [
       "<div>\n",
       "<style scoped>\n",
       "    .dataframe tbody tr th:only-of-type {\n",
       "        vertical-align: middle;\n",
       "    }\n",
       "\n",
       "    .dataframe tbody tr th {\n",
       "        vertical-align: top;\n",
       "    }\n",
       "\n",
       "    .dataframe thead th {\n",
       "        text-align: right;\n",
       "    }\n",
       "</style>\n",
       "<table border=\"1\" class=\"dataframe\">\n",
       "  <thead>\n",
       "    <tr style=\"text-align: right;\">\n",
       "      <th></th>\n",
       "      <th>precision</th>\n",
       "      <th>recall</th>\n",
       "      <th>f1-score</th>\n",
       "      <th>support</th>\n",
       "    </tr>\n",
       "  </thead>\n",
       "  <tbody>\n",
       "    <tr>\n",
       "      <th>0</th>\n",
       "      <td>0.914773</td>\n",
       "      <td>0.664374</td>\n",
       "      <td>0.769721</td>\n",
       "      <td>2181.000000</td>\n",
       "    </tr>\n",
       "    <tr>\n",
       "      <th>1</th>\n",
       "      <td>0.320334</td>\n",
       "      <td>0.718750</td>\n",
       "      <td>0.443160</td>\n",
       "      <td>480.000000</td>\n",
       "    </tr>\n",
       "    <tr>\n",
       "      <th>accuracy</th>\n",
       "      <td>0.674183</td>\n",
       "      <td>0.674183</td>\n",
       "      <td>0.674183</td>\n",
       "      <td>0.674183</td>\n",
       "    </tr>\n",
       "    <tr>\n",
       "      <th>macro avg</th>\n",
       "      <td>0.617553</td>\n",
       "      <td>0.691562</td>\n",
       "      <td>0.606441</td>\n",
       "      <td>2661.000000</td>\n",
       "    </tr>\n",
       "    <tr>\n",
       "      <th>weighted avg</th>\n",
       "      <td>0.807546</td>\n",
       "      <td>0.674183</td>\n",
       "      <td>0.710815</td>\n",
       "      <td>2661.000000</td>\n",
       "    </tr>\n",
       "  </tbody>\n",
       "</table>\n",
       "</div>"
      ],
      "text/plain": [
       "              precision    recall  f1-score      support\n",
       "0              0.914773  0.664374  0.769721  2181.000000\n",
       "1              0.320334  0.718750  0.443160   480.000000\n",
       "accuracy       0.674183  0.674183  0.674183     0.674183\n",
       "macro avg      0.617553  0.691562  0.606441  2661.000000\n",
       "weighted avg   0.807546  0.674183  0.710815  2661.000000"
      ]
     },
     "execution_count": 16,
     "metadata": {},
     "output_type": "execute_result"
    }
   ],
   "source": [
    "new_threshold = 0.48\n",
    "\n",
    "y_new_prediction = np.where(y_RFpredProb_test >= new_threshold, 1, 0)\n",
    "report_pre = classification_report(Y_test, y_new_prediction, output_dict=True)\n",
    "pd.DataFrame(report_pre).T"
   ]
  },
  {
   "cell_type": "code",
   "execution_count": 22,
   "metadata": {},
   "outputs": [
    {
     "data": {
      "text/html": [
       "<div>\n",
       "<style scoped>\n",
       "    .dataframe tbody tr th:only-of-type {\n",
       "        vertical-align: middle;\n",
       "    }\n",
       "\n",
       "    .dataframe tbody tr th {\n",
       "        vertical-align: top;\n",
       "    }\n",
       "\n",
       "    .dataframe thead th {\n",
       "        text-align: right;\n",
       "    }\n",
       "</style>\n",
       "<table border=\"1\" class=\"dataframe\">\n",
       "  <thead>\n",
       "    <tr style=\"text-align: right;\">\n",
       "      <th></th>\n",
       "      <th>precision</th>\n",
       "      <th>recall</th>\n",
       "      <th>f1-score</th>\n",
       "      <th>support</th>\n",
       "    </tr>\n",
       "  </thead>\n",
       "  <tbody>\n",
       "    <tr>\n",
       "      <th>0</th>\n",
       "      <td>0.912557</td>\n",
       "      <td>0.726381</td>\n",
       "      <td>0.808895</td>\n",
       "      <td>8764.00000</td>\n",
       "    </tr>\n",
       "    <tr>\n",
       "      <th>1</th>\n",
       "      <td>0.345703</td>\n",
       "      <td>0.675013</td>\n",
       "      <td>0.457236</td>\n",
       "      <td>1877.00000</td>\n",
       "    </tr>\n",
       "    <tr>\n",
       "      <th>accuracy</th>\n",
       "      <td>0.717320</td>\n",
       "      <td>0.717320</td>\n",
       "      <td>0.717320</td>\n",
       "      <td>0.71732</td>\n",
       "    </tr>\n",
       "    <tr>\n",
       "      <th>macro avg</th>\n",
       "      <td>0.629130</td>\n",
       "      <td>0.700697</td>\n",
       "      <td>0.633065</td>\n",
       "      <td>10641.00000</td>\n",
       "    </tr>\n",
       "    <tr>\n",
       "      <th>weighted avg</th>\n",
       "      <td>0.812568</td>\n",
       "      <td>0.717320</td>\n",
       "      <td>0.746864</td>\n",
       "      <td>10641.00000</td>\n",
       "    </tr>\n",
       "  </tbody>\n",
       "</table>\n",
       "</div>"
      ],
      "text/plain": [
       "              precision    recall  f1-score      support\n",
       "0              0.912557  0.726381  0.808895   8764.00000\n",
       "1              0.345703  0.675013  0.457236   1877.00000\n",
       "accuracy       0.717320  0.717320  0.717320      0.71732\n",
       "macro avg      0.629130  0.700697  0.633065  10641.00000\n",
       "weighted avg   0.812568  0.717320  0.746864  10641.00000"
      ]
     },
     "execution_count": 22,
     "metadata": {},
     "output_type": "execute_result"
    }
   ],
   "source": [
    "y_RFpred_train = RF.predict(X_train)\n",
    "report_train = classification_report(Y_train,y_RFpred_train,output_dict=True)\n",
    "pd.DataFrame(report_train).T"
   ]
  },
  {
   "cell_type": "code",
   "execution_count": 23,
   "metadata": {},
   "outputs": [
    {
     "name": "stderr",
     "output_type": "stream",
     "text": [
      "Function plot_confusion_matrix is deprecated; Function `plot_confusion_matrix` is deprecated in 1.0 and will be removed in 1.2. Use one of the class methods: ConfusionMatrixDisplay.from_predictions or ConfusionMatrixDisplay.from_estimator.\n"
     ]
    },
    {
     "data": {
      "image/png": "[encoded data removed]",
      "text/plain": [
       "<Figure size 432x288 with 2 Axes>"
      ]
     },
     "metadata": {
      "needs_background": "light"
     },
     "output_type": "display_data"
    }
   ],
   "source": [
    "from sklearn.metrics import plot_confusion_matrix\n",
    "import matplotlib.pyplot as plt\n",
    "# plot_confusion_matrix(RF, StdTest['test_9'][predictorList], StdTest['test_9']['FCSStaus'], cmap=plt.cm.Blues)\n",
    "plot_confusion_matrix(RF, X_train, Y_train, cmap=plt.cm.Blues)\n",
    "plt.show()"
   ]
  },
  {
   "cell_type": "code",
   "execution_count": 31,
   "metadata": {},
   "outputs": [
    {
     "data": {
      "text/plain": [
       "Text(0, 0.5, 'Mean decrease in impurity')"
      ]
     },
     "execution_count": 31,
     "metadata": {},
     "output_type": "execute_result"
    },
    {
     "data": {
      "image/png": "[encoded data removed]",
      "text/plain": [
       "<Figure size 1440x432 with 1 Axes>"
      ]
     },
     "metadata": {
      "needs_background": "light"
     },
     "output_type": "display_data"
    }
   ],
   "source": [
    "importances = RF.feature_importances_\n",
    "forest_importances = pd.Series(importances, index=X_train.columns)\n",
    "\n",
    "fig, ax = plt.subplots(figsize=(20, 6))\n",
    "forest_importances.sort_values().plot.bar(ax=ax)\n",
    "plt.xticks(rotation=80)\n",
    "ax.set_title(\"Feature importances using MDI\")\n",
    "ax.set_ylabel(\"Mean decrease in impurity\")"
   ]
  },
  {
   "cell_type": "code",
   "execution_count": 32,
   "metadata": {},
   "outputs": [],
   "source": [
    "RFImportance = set(forest_importances[0:20].index)"
   ]
  },
  {
   "cell_type": "code",
   "execution_count": 33,
   "metadata": {},
   "outputs": [],
   "source": [
    "X_present = X_train.sample(frac=0.1)\n",
    "explainer = shap.TreeExplainer(RF, feature_perturbation=\"tree_path_dependent\", model_output='raw')\n",
    "shap_values = explainer(X_present)"
   ]
  },
  {
   "cell_type": "code",
   "execution_count": 34,
   "metadata": {},
   "outputs": [
    {
     "data": {
      "image/png": "[encoded data removed]",
      "text/plain": [
       "<Figure size 576x684 with 2 Axes>"
      ]
     },
     "metadata": {
      "needs_background": "light"
     },
     "output_type": "display_data"
    }
   ],
   "source": [
    "shap.plots.beeswarm(shap_values[:,:,1], max_display = 20)"
   ]
  },
  {
   "cell_type": "code",
   "execution_count": 35,
   "metadata": {},
   "outputs": [],
   "source": [
    "feature_names = X_train.columns\n",
    "\n",
    "rf_resultX = pd.DataFrame(shap_values[:,:,1].values, columns = feature_names)\n",
    "\n",
    "vals = np.abs(rf_resultX.values).mean(0)\n",
    "\n",
    "shap_importance = pd.DataFrame(list(zip(feature_names, vals)),\n",
    "                                  columns=['col_name','feature_importance_vals'])\n",
    "shap_importance.sort_values(by=['feature_importance_vals'],\n",
    "                               ascending=False, inplace=True)\n",
    "shapImportance = set(shap_importance.iloc[0:20,0])"
   ]
  },
  {
   "cell_type": "code",
   "execution_count": 38,
   "metadata": {},
   "outputs": [
    {
     "data": {
      "text/plain": [
       "31"
      ]
     },
     "execution_count": 38,
     "metadata": {},
     "output_type": "execute_result"
    }
   ],
   "source": [
    "len(shapImportance | RFImportance)"
   ]
  },
  {
   "attachments": {},
   "cell_type": "markdown",
   "metadata": {},
   "source": [
    "#### 2nd Version"
   ]
  },
  {
   "cell_type": "code",
   "execution_count": 83,
   "metadata": {},
   "outputs": [
    {
     "data": {
      "text/plain": [
       "array([['valueNow_ArgLand', 'NDVI Anomaly', 'valueNow_Livestock',\n",
       "        'temperature', 'HouseType_feq', 'AvgAge', 'NDVIMean',\n",
       "        'MaleRatio', 'SubjectivePoverty_feq', 'Kind Income Ratio',\n",
       "        '1 Month Anomaly (%)', 'Income', 'Average (mm)', 'OwnNow_TV',\n",
       "        'precipitationMean', 'SelfHerd', '3 Months Anomaly (%)',\n",
       "        'valueNowTotal', 'NDVI Anomaly Mean', 'IncomeStab_feq',\n",
       "        'Rainfall (mm)', 'NL_District', 'OwnNow_MobilePhone',\n",
       "        'fatalitiesMean', 'temperatureMean', 'valueNow_Furniture',\n",
       "        'OwnNow_Furniture']], dtype='<U21')"
      ]
     },
     "execution_count": 83,
     "metadata": {},
     "output_type": "execute_result"
    }
   ],
   "source": [
    "np.array(list(shapImportance | RFImportance)).reshape((1,-1))"
   ]
  },
  {
   "cell_type": "code",
   "execution_count": 39,
   "metadata": {},
   "outputs": [],
   "source": [
    "predictorList = list(shapImportance & RFImportance)\n",
    "\n",
    "binaryList_using = list(set(binaryList) & set(predictorList))\n",
    "freq = ['HouseType', 'RoofType', 'WaterSource',\n",
    "       'DistDrinkingWater', 'SubjectivePoverty', 'RelLivStandard',\n",
    "       'IncomeStab', 'LivStandChange']\n",
    "freqList = [f\"{i}_feq\" for i in freq]\n",
    "freqList_using = list(set(freqList) & set(predictorList))\n",
    "\n",
    "standardizationList = list(set(predictorList) - set(binaryList_using) - set(freqList_using))"
   ]
  },
  {
   "cell_type": "code",
   "execution_count": 42,
   "metadata": {},
   "outputs": [
    {
     "name": "stdout",
     "output_type": "stream",
     "text": [
      "(10641, 9) (10641,) (2661, 9) (2661,)\n"
     ]
    }
   ],
   "source": [
    "X_train, X_test, y_train, y_test = train_test_split(wkd2019[predictorList], wkd2019[\"FCSStaus\"], test_size=0.2, random_state=527)\n",
    "X_train.reset_index(drop=True,inplace=True)\n",
    "X_test.reset_index(drop=True,inplace=True)\n",
    "y_train.reset_index(drop=True,inplace=True)\n",
    "y_test.reset_index(drop=True,inplace=True)\n",
    "Std_Train, Std_Test = StandardizerTrainTest(X_train, X_test, standardizationList, binaryList_using, freqList_using)\n",
    "X_smote, Y_smote, X_ADA, Y_ADA = resampling(Std_Train, y_train)\n",
    "print(Std_Train.shape, y_train.shape, Std_Test.shape, y_test.shape)"
   ]
  },
  {
   "cell_type": "code",
   "execution_count": 84,
   "metadata": {},
   "outputs": [
    {
     "data": {
      "text/plain": [
       "GridSearchCV(cv=5,\n",
       "             estimator=RandomForestClassifier(n_estimators=1000, n_jobs=-1,\n",
       "                                              random_state=527),\n",
       "             param_grid={'max_depth': [3, 5, 7], 'max_features': [3, 5, 7],\n",
       "                         'min_samples_leaf': [10, 20, 50]},\n",
       "             scoring='roc_auc')"
      ]
     },
     "execution_count": 84,
     "metadata": {},
     "output_type": "execute_result"
    }
   ],
   "source": [
    "from sklearn.ensemble import RandomForestClassifier\n",
    "\n",
    "X_train = X_ADA\n",
    "Y_train = Y_ADA\n",
    "\n",
    "X_test = Std_Test\n",
    "Y_test = y_test\n",
    "\n",
    "RF = RandomForestClassifier(n_estimators=1000,n_jobs=-1,random_state=527, class_weight='balanced')\n",
    "\n",
    "grid_rf = {\"min_samples_leaf\":[10,20,50],'max_depth':[3, 5,7], 'max_features' : [3,5,7]}\n",
    "\n",
    "# crossval_rf = GridSearchCV(RF,grid_rf,cv=5,scoring=scoring)\n",
    "crossval_rf = GridSearchCV(RF,grid_rf,cv=5,scoring='roc_auc')\n",
    "\n",
    "crossval_rf.fit(X_train, Y_train)"
   ]
  },
  {
   "cell_type": "code",
   "execution_count": 85,
   "metadata": {},
   "outputs": [
    {
     "data": {
      "text/plain": [
       "{'max_depth': 7, 'max_features': 7, 'min_samples_leaf': 10}"
      ]
     },
     "execution_count": 85,
     "metadata": {},
     "output_type": "execute_result"
    }
   ],
   "source": [
    "crossval_rf.best_params_"
   ]
  },
  {
   "cell_type": "code",
   "execution_count": 80,
   "metadata": {},
   "outputs": [
    {
     "data": {
      "text/plain": [
       "GridSearchCV(cv=5,\n",
       "             estimator=RandomForestClassifier(n_estimators=1000, n_jobs=-1,\n",
       "                                              random_state=527),\n",
       "             param_grid={'max_depth': [7, 8, 9], 'max_features': [5],\n",
       "                         'min_samples_leaf': [10]},\n",
       "             scoring=make_scorer(recall_score, average=binary))"
      ]
     },
     "execution_count": 80,
     "metadata": {},
     "output_type": "execute_result"
    }
   ],
   "source": [
    "RF = RandomForestClassifier(n_estimators=1000,n_jobs=-1,random_state=527, class_weight='balanced')\n",
    "\n",
    "grid_rf = {\"min_samples_leaf\":[10],'max_depth':[7, 8,9], 'max_features' : [7]}\n",
    "\n",
    "crossval_rf = GridSearchCV(RF,grid_rf,cv=5,scoring=scoring)\n",
    "# crossval_rf = GridSearchCV(RF,grid_rf,cv=5,scoring='roc_auc')\n",
    "\n",
    "crossval_rf.fit(X_train, Y_train)"
   ]
  },
  {
   "cell_type": "code",
   "execution_count": 81,
   "metadata": {},
   "outputs": [
    {
     "data": {
      "text/plain": [
       "{'max_depth': 9, 'max_features': 5, 'min_samples_leaf': 10}"
      ]
     },
     "execution_count": 81,
     "metadata": {},
     "output_type": "execute_result"
    }
   ],
   "source": [
    "crossval_rf.best_params_"
   ]
  },
  {
   "cell_type": "code",
   "execution_count": 86,
   "metadata": {},
   "outputs": [
    {
     "data": {
      "text/html": [
       "<div>\n",
       "<style scoped>\n",
       "    .dataframe tbody tr th:only-of-type {\n",
       "        vertical-align: middle;\n",
       "    }\n",
       "\n",
       "    .dataframe tbody tr th {\n",
       "        vertical-align: top;\n",
       "    }\n",
       "\n",
       "    .dataframe thead th {\n",
       "        text-align: right;\n",
       "    }\n",
       "</style>\n",
       "<table border=\"1\" class=\"dataframe\">\n",
       "  <thead>\n",
       "    <tr style=\"text-align: right;\">\n",
       "      <th></th>\n",
       "      <th>precision</th>\n",
       "      <th>recall</th>\n",
       "      <th>f1-score</th>\n",
       "      <th>support</th>\n",
       "    </tr>\n",
       "  </thead>\n",
       "  <tbody>\n",
       "    <tr>\n",
       "      <th>0</th>\n",
       "      <td>0.898438</td>\n",
       "      <td>0.685465</td>\n",
       "      <td>0.777633</td>\n",
       "      <td>2181.000000</td>\n",
       "    </tr>\n",
       "    <tr>\n",
       "      <th>1</th>\n",
       "      <td>0.311936</td>\n",
       "      <td>0.647917</td>\n",
       "      <td>0.421124</td>\n",
       "      <td>480.000000</td>\n",
       "    </tr>\n",
       "    <tr>\n",
       "      <th>accuracy</th>\n",
       "      <td>0.678692</td>\n",
       "      <td>0.678692</td>\n",
       "      <td>0.678692</td>\n",
       "      <td>0.678692</td>\n",
       "    </tr>\n",
       "    <tr>\n",
       "      <th>macro avg</th>\n",
       "      <td>0.605187</td>\n",
       "      <td>0.666691</td>\n",
       "      <td>0.599379</td>\n",
       "      <td>2661.000000</td>\n",
       "    </tr>\n",
       "    <tr>\n",
       "      <th>weighted avg</th>\n",
       "      <td>0.792642</td>\n",
       "      <td>0.678692</td>\n",
       "      <td>0.713325</td>\n",
       "      <td>2661.000000</td>\n",
       "    </tr>\n",
       "  </tbody>\n",
       "</table>\n",
       "</div>"
      ],
      "text/plain": [
       "              precision    recall  f1-score      support\n",
       "0              0.898438  0.685465  0.777633  2181.000000\n",
       "1              0.311936  0.647917  0.421124   480.000000\n",
       "accuracy       0.678692  0.678692  0.678692     0.678692\n",
       "macro avg      0.605187  0.666691  0.599379  2661.000000\n",
       "weighted avg   0.792642  0.678692  0.713325  2661.000000"
      ]
     },
     "execution_count": 86,
     "metadata": {},
     "output_type": "execute_result"
    }
   ],
   "source": [
    "RF = RandomForestClassifier(n_estimators=1000,n_jobs=-1,random_state=527, **crossval_rf.best_params_, \n",
    "                            class_weight='balanced')\n",
    "\n",
    "RF.fit(X_train, Y_train)\n",
    "y_RFpredProb_train = RF.predict_proba(X_train)[:, 1]\n",
    "y_RFpred_test = RF.predict(X_test)\n",
    "y_RFpredProb_test = RF.predict_proba(X_test)[:, 1]\n",
    "\n",
    "report_pre = classification_report(Y_test, y_RFpred_test, output_dict=True)\n",
    "pd.DataFrame(report_pre).T"
   ]
  },
  {
   "cell_type": "code",
   "execution_count": 87,
   "metadata": {},
   "outputs": [
    {
     "data": {
      "text/plain": [
       "(0.8432878695614882, 0.6666910247592848)"
      ]
     },
     "execution_count": 87,
     "metadata": {},
     "output_type": "execute_result"
    }
   ],
   "source": [
    "roc_auc_score(Y_train, y_RFpredProb_train), roc_auc_score(Y_test, y_RFpred_test)"
   ]
  },
  {
   "cell_type": "code",
   "execution_count": 88,
   "metadata": {},
   "outputs": [
    {
     "data": {
      "text/html": [
       "<div>\n",
       "<style scoped>\n",
       "    .dataframe tbody tr th:only-of-type {\n",
       "        vertical-align: middle;\n",
       "    }\n",
       "\n",
       "    .dataframe tbody tr th {\n",
       "        vertical-align: top;\n",
       "    }\n",
       "\n",
       "    .dataframe thead th {\n",
       "        text-align: right;\n",
       "    }\n",
       "</style>\n",
       "<table border=\"1\" class=\"dataframe\">\n",
       "  <thead>\n",
       "    <tr style=\"text-align: right;\">\n",
       "      <th></th>\n",
       "      <th>precision</th>\n",
       "      <th>recall</th>\n",
       "      <th>f1-score</th>\n",
       "      <th>support</th>\n",
       "    </tr>\n",
       "  </thead>\n",
       "  <tbody>\n",
       "    <tr>\n",
       "      <th>0</th>\n",
       "      <td>0.901558</td>\n",
       "      <td>0.663457</td>\n",
       "      <td>0.764395</td>\n",
       "      <td>2181.000000</td>\n",
       "    </tr>\n",
       "    <tr>\n",
       "      <th>1</th>\n",
       "      <td>0.304924</td>\n",
       "      <td>0.670833</td>\n",
       "      <td>0.419271</td>\n",
       "      <td>480.000000</td>\n",
       "    </tr>\n",
       "    <tr>\n",
       "      <th>accuracy</th>\n",
       "      <td>0.664788</td>\n",
       "      <td>0.664788</td>\n",
       "      <td>0.664788</td>\n",
       "      <td>0.664788</td>\n",
       "    </tr>\n",
       "    <tr>\n",
       "      <th>macro avg</th>\n",
       "      <td>0.603241</td>\n",
       "      <td>0.667145</td>\n",
       "      <td>0.591833</td>\n",
       "      <td>2661.000000</td>\n",
       "    </tr>\n",
       "    <tr>\n",
       "      <th>weighted avg</th>\n",
       "      <td>0.793935</td>\n",
       "      <td>0.664788</td>\n",
       "      <td>0.702140</td>\n",
       "      <td>2661.000000</td>\n",
       "    </tr>\n",
       "  </tbody>\n",
       "</table>\n",
       "</div>"
      ],
      "text/plain": [
       "              precision    recall  f1-score      support\n",
       "0              0.901558  0.663457  0.764395  2181.000000\n",
       "1              0.304924  0.670833  0.419271   480.000000\n",
       "accuracy       0.664788  0.664788  0.664788     0.664788\n",
       "macro avg      0.603241  0.667145  0.591833  2661.000000\n",
       "weighted avg   0.793935  0.664788  0.702140  2661.000000"
      ]
     },
     "execution_count": 88,
     "metadata": {},
     "output_type": "execute_result"
    }
   ],
   "source": [
    "new_threshold = 0.48\n",
    "\n",
    "y_new_prediction = np.where(y_RFpredProb_test >= new_threshold, 1, 0)\n",
    "report_pre = classification_report(Y_test, y_new_prediction, output_dict=True)\n",
    "pd.DataFrame(report_pre).T"
   ]
  },
  {
   "cell_type": "code",
   "execution_count": 89,
   "metadata": {},
   "outputs": [
    {
     "data": {
      "text/html": [
       "<div>\n",
       "<style scoped>\n",
       "    .dataframe tbody tr th:only-of-type {\n",
       "        vertical-align: middle;\n",
       "    }\n",
       "\n",
       "    .dataframe tbody tr th {\n",
       "        vertical-align: top;\n",
       "    }\n",
       "\n",
       "    .dataframe thead th {\n",
       "        text-align: right;\n",
       "    }\n",
       "</style>\n",
       "<table border=\"1\" class=\"dataframe\">\n",
       "  <thead>\n",
       "    <tr style=\"text-align: right;\">\n",
       "      <th></th>\n",
       "      <th>precision</th>\n",
       "      <th>recall</th>\n",
       "      <th>f1-score</th>\n",
       "      <th>support</th>\n",
       "    </tr>\n",
       "  </thead>\n",
       "  <tbody>\n",
       "    <tr>\n",
       "      <th>0</th>\n",
       "      <td>0.779140</td>\n",
       "      <td>0.703218</td>\n",
       "      <td>0.739235</td>\n",
       "      <td>8764.000000</td>\n",
       "    </tr>\n",
       "    <tr>\n",
       "      <th>1</th>\n",
       "      <td>0.723298</td>\n",
       "      <td>0.795577</td>\n",
       "      <td>0.757718</td>\n",
       "      <td>8546.000000</td>\n",
       "    </tr>\n",
       "    <tr>\n",
       "      <th>accuracy</th>\n",
       "      <td>0.748816</td>\n",
       "      <td>0.748816</td>\n",
       "      <td>0.748816</td>\n",
       "      <td>0.748816</td>\n",
       "    </tr>\n",
       "    <tr>\n",
       "      <th>macro avg</th>\n",
       "      <td>0.751219</td>\n",
       "      <td>0.749397</td>\n",
       "      <td>0.748476</td>\n",
       "      <td>17310.000000</td>\n",
       "    </tr>\n",
       "    <tr>\n",
       "      <th>weighted avg</th>\n",
       "      <td>0.751571</td>\n",
       "      <td>0.748816</td>\n",
       "      <td>0.748360</td>\n",
       "      <td>17310.000000</td>\n",
       "    </tr>\n",
       "  </tbody>\n",
       "</table>\n",
       "</div>"
      ],
      "text/plain": [
       "              precision    recall  f1-score       support\n",
       "0              0.779140  0.703218  0.739235   8764.000000\n",
       "1              0.723298  0.795577  0.757718   8546.000000\n",
       "accuracy       0.748816  0.748816  0.748816      0.748816\n",
       "macro avg      0.751219  0.749397  0.748476  17310.000000\n",
       "weighted avg   0.751571  0.748816  0.748360  17310.000000"
      ]
     },
     "execution_count": 89,
     "metadata": {},
     "output_type": "execute_result"
    }
   ],
   "source": [
    "y_RFpred_train = RF.predict(X_train)\n",
    "report_train = classification_report(Y_train,y_RFpred_train,output_dict=True)\n",
    "pd.DataFrame(report_train).T"
   ]
  },
  {
   "cell_type": "code",
   "execution_count": 90,
   "metadata": {},
   "outputs": [
    {
     "name": "stderr",
     "output_type": "stream",
     "text": [
      "Function plot_confusion_matrix is deprecated; Function `plot_confusion_matrix` is deprecated in 1.0 and will be removed in 1.2. Use one of the class methods: ConfusionMatrixDisplay.from_predictions or ConfusionMatrixDisplay.from_estimator.\n"
     ]
    },
    {
     "data": {
      "image/png": "[encoded data removed]",
      "text/plain": [
       "<Figure size 432x288 with 2 Axes>"
      ]
     },
     "metadata": {
      "needs_background": "light"
     },
     "output_type": "display_data"
    }
   ],
   "source": [
    "from sklearn.metrics import plot_confusion_matrix\n",
    "import matplotlib.pyplot as plt\n",
    "# plot_confusion_matrix(RF, StdTest['test_9'][predictorList], StdTest['test_9']['FCSStaus'], cmap=plt.cm.Blues)\n",
    "plot_confusion_matrix(RF, X_test, Y_test, cmap=plt.cm.Blues)\n",
    "plt.show()"
   ]
  },
  {
   "cell_type": "code",
   "execution_count": null,
   "metadata": {},
   "outputs": [],
   "source": [
    "importances = RF.feature_importances_\n",
    "forest_importances = pd.Series(importances, index=X_train.columns)\n",
    "\n",
    "fig, ax = plt.subplots(figsize=(20, 6))\n",
    "forest_importances.sort_values().plot.bar(ax=ax)\n",
    "ax.set_title(\"Feature importances using MDI\")\n",
    "ax.set_ylabel(\"Mean decrease in impurity\")\n"
   ]
  },
  {
   "cell_type": "code",
   "execution_count": 154,
   "metadata": {},
   "outputs": [],
   "source": [
    "X_present = X_train.sample(frac=0.1)\n",
    "explainer = shap.TreeExplainer(RF, feature_perturbation=\"tree_path_dependent\", model_output='raw')\n",
    "shap_values = explainer(X_present)"
   ]
  },
  {
   "attachments": {},
   "cell_type": "markdown",
   "metadata": {},
   "source": [
    "#### XGBoost"
   ]
  },
  {
   "cell_type": "code",
   "execution_count": 186,
   "metadata": {},
   "outputs": [],
   "source": [
    "import xgboost as xgb # use xgb.cv \n",
    "from xgboost.sklearn import XGBClassifier\n",
    "from sklearn import metrics \n",
    "import matplotlib.pyplot as plt\n",
    "\n",
    "def modelfit(alg, dtrain, predictors, X_test, Y_test,useTrainCV=True, cv_folds=5, early_stopping_rounds=50):\n",
    "    \"\"\"Fit the XGBoost automatically and return the needed matrics and importance figure \n",
    "\n",
    "    Args:\n",
    "        alg (_type_): xgboost model\n",
    "        dtrain (_type_): dataframe of training data \n",
    "        predictors (_type_): predictor list \n",
    "        useTrainCV (bool, optional): if use the CV to find the best n_estimator. Defaults to True.\n",
    "        cv_folds (int, optional): CV folds. Defaults to 5.\n",
    "        early_stopping_rounds (int, optional): for iteration. Defaults to 50.\n",
    "        X_test (_type_, optional): test before covid. Defaults to X_test.\n",
    "        Y_test (_type_, optional): Y test before covid. Defaults to X_test.\n",
    "    \"\"\"\n",
    "    if useTrainCV:\n",
    "        xgb_param = alg.get_xgb_params()\n",
    "        xgtrain = xgb.DMatrix(dtrain[predictors].values, label=dtrain[\"FCSStaus\"].values)\n",
    "        cvresult = xgb.cv(xgb_param, xgtrain, num_boost_round=alg.get_params()['n_estimators'], nfold=cv_folds,\n",
    "            metrics='auc', early_stopping_rounds=early_stopping_rounds)\n",
    "        alg.set_params(n_estimators=cvresult.shape[0])\n",
    "    \n",
    "    #Fit the algorithm on the data\n",
    "    alg.fit(dtrain[predictors], dtrain['FCSStaus'])\n",
    "        \n",
    "    #Predict training set:\n",
    "    dtrain_predictions = alg.predict(dtrain[predictors])\n",
    "    dtrain_predprob = alg.predict_proba(dtrain[predictors])[:,1]\n",
    "    \n",
    "    dtest_predprob_pre = alg.predict_proba(X_test[predictors])[:,1]\n",
    "    dtest_predictions_pre = alg.predict(X_test[predictors])\n",
    "    #Print model report:\n",
    "    print(\"\\nModel Report\")\n",
    "    print(\"Accuracy : %.4g\" % metrics.accuracy_score(dtrain['FCSStaus'].values, dtrain_predictions))\n",
    "    print( \"AUC Score (Train): %f\" % metrics.roc_auc_score(dtrain['FCSStaus'], dtrain_predprob))\n",
    "    print( \"AUC Score (Test): %f\" % metrics.roc_auc_score(Y_test, dtest_predprob_pre))\n",
    "    print( \"F1 Macro Score (Test): %f\" % metrics.f1_score(Y_test, dtest_predictions_pre, average=\"macro\"))\n",
    "    print( \"F1 Weighted Score (Test): %f\" % metrics.f1_score(Y_test, dtest_predictions_pre, average=\"weighted\"))\n",
    "    print( \"Recall (Test): %f\" % metrics.recall_score(Y_test, dtest_predictions_pre))\n",
    "          \n",
    "    importances = alg.feature_importances_\n",
    "    feature_names = np.array(predictors)  \n",
    "    # Plot feature importances\n",
    "    indices = np.argsort(importances)[::-1]\n",
    "    sorted_importances = importances[indices]\n",
    "    sorted_feature_names = feature_names[indices]\n",
    "\n",
    "    # Plot feature importances\n",
    "    plt.bar(range(len(sorted_importances)), sorted_importances)\n",
    "    plt.xticks(range(len(sorted_importances)), sorted_feature_names, rotation='vertical')\n",
    "    plt.xlabel('Features')\n",
    "    plt.ylabel('Importance')\n",
    "    plt.title('Feature Importances')\n",
    "    plt.show()\n",
    "    \n",
    "    return alg, dtest_predprob_pre, dtest_predictions_pre"
   ]
  },
  {
   "cell_type": "code",
   "execution_count": 187,
   "metadata": {},
   "outputs": [
    {
     "name": "stdout",
     "output_type": "stream",
     "text": [
      "(10641, 42) (10641,) (2661, 42) (2661,)\n"
     ]
    }
   ],
   "source": [
    "X_train, X_test, y_train, y_test = train_test_split(wkd2019[predictorList], wkd2019[\"FCSStaus\"], test_size=0.2, random_state=527)\n",
    "X_train.reset_index(drop=True,inplace=True)\n",
    "X_test.reset_index(drop=True,inplace=True)\n",
    "y_train.reset_index(drop=True,inplace=True)\n",
    "y_test.reset_index(drop=True,inplace=True)\n",
    "Std_Train, Std_Test = StandardizerTrainTest(X_train, X_test, standardizationList, binaryList, freqList) #full version \n",
    "X_smote, Y_smote, X_ADA, Y_ADA = resampling(Std_Train, y_train)\n",
    "print(Std_Train.shape, y_train.shape, Std_Test.shape, y_test.shape)"
   ]
  },
  {
   "cell_type": "code",
   "execution_count": 188,
   "metadata": {},
   "outputs": [
    {
     "name": "stdout",
     "output_type": "stream",
     "text": [
      "\n",
      "Model Report\n",
      "Accuracy : 0.9517\n",
      "AUC Score (Train): 0.992937\n",
      "AUC Score (Test): 0.818691\n",
      "F1 Macro Score (Test): 0.692384\n",
      "F1 Weighted Score (Test): 0.832491\n",
      "Recall (Test): 0.377083\n"
     ]
    },
    {
     "data": {
      "image/png": "[encoded data removed]",
      "text/plain": [
       "<Figure size 432x288 with 1 Axes>"
      ]
     },
     "metadata": {
      "needs_background": "light"
     },
     "output_type": "display_data"
    }
   ],
   "source": [
    "X_train = X_smote\n",
    "Y_train = Y_smote\n",
    "\n",
    "X_test = Std_Test\n",
    "Y_test = y_test\n",
    "\n",
    "DataTrain = pd.concat([X_train,Y_train],axis=1)\n",
    "xgb1 = XGBClassifier(\n",
    " learning_rate =0.05,\n",
    " n_estimators=1000,\n",
    " max_depth=5,\n",
    " min_child_weight=1,\n",
    " gamma=1,\n",
    " subsample=0.8,\n",
    " colsample_bytree=0.8,\n",
    " objective= 'binary:logistic',\n",
    " nthread=4,\n",
    " scale_pos_weight=1,\n",
    " seed=27)\n",
    "xgb_estimator, test_pred_prob, test_pred_class = modelfit(xgb1, DataTrain, predictorList, X_test=X_test, Y_test=Y_test)"
   ]
  },
  {
   "cell_type": "code",
   "execution_count": 189,
   "metadata": {},
   "outputs": [
    {
     "data": {
      "text/html": [
       "<div>\n",
       "<style scoped>\n",
       "    .dataframe tbody tr th:only-of-type {\n",
       "        vertical-align: middle;\n",
       "    }\n",
       "\n",
       "    .dataframe tbody tr th {\n",
       "        vertical-align: top;\n",
       "    }\n",
       "\n",
       "    .dataframe thead th {\n",
       "        text-align: right;\n",
       "    }\n",
       "</style>\n",
       "<table border=\"1\" class=\"dataframe\">\n",
       "  <thead>\n",
       "    <tr style=\"text-align: right;\">\n",
       "      <th></th>\n",
       "      <th>precision</th>\n",
       "      <th>recall</th>\n",
       "      <th>f1-score</th>\n",
       "      <th>support</th>\n",
       "    </tr>\n",
       "  </thead>\n",
       "  <tbody>\n",
       "    <tr>\n",
       "      <th>0</th>\n",
       "      <td>0.874158</td>\n",
       "      <td>0.952315</td>\n",
       "      <td>0.911565</td>\n",
       "      <td>2181.000000</td>\n",
       "    </tr>\n",
       "    <tr>\n",
       "      <th>1</th>\n",
       "      <td>0.635088</td>\n",
       "      <td>0.377083</td>\n",
       "      <td>0.473203</td>\n",
       "      <td>480.000000</td>\n",
       "    </tr>\n",
       "    <tr>\n",
       "      <th>accuracy</th>\n",
       "      <td>0.848553</td>\n",
       "      <td>0.848553</td>\n",
       "      <td>0.848553</td>\n",
       "      <td>0.848553</td>\n",
       "    </tr>\n",
       "    <tr>\n",
       "      <th>macro avg</th>\n",
       "      <td>0.754623</td>\n",
       "      <td>0.664699</td>\n",
       "      <td>0.692384</td>\n",
       "      <td>2661.000000</td>\n",
       "    </tr>\n",
       "    <tr>\n",
       "      <th>weighted avg</th>\n",
       "      <td>0.831034</td>\n",
       "      <td>0.848553</td>\n",
       "      <td>0.832491</td>\n",
       "      <td>2661.000000</td>\n",
       "    </tr>\n",
       "  </tbody>\n",
       "</table>\n",
       "</div>"
      ],
      "text/plain": [
       "              precision    recall  f1-score      support\n",
       "0              0.874158  0.952315  0.911565  2181.000000\n",
       "1              0.635088  0.377083  0.473203   480.000000\n",
       "accuracy       0.848553  0.848553  0.848553     0.848553\n",
       "macro avg      0.754623  0.664699  0.692384  2661.000000\n",
       "weighted avg   0.831034  0.848553  0.832491  2661.000000"
      ]
     },
     "execution_count": 189,
     "metadata": {},
     "output_type": "execute_result"
    }
   ],
   "source": [
    "report_train = classification_report(Y_test,test_pred_class,output_dict=True)\n",
    "pd.DataFrame(report_train).T"
   ]
  },
  {
   "cell_type": "code",
   "execution_count": 190,
   "metadata": {},
   "outputs": [
    {
     "data": {
      "text/plain": [
       "({'max_depth': 9, 'min_child_weight': 1}, 0.9651787464805274)"
      ]
     },
     "execution_count": 190,
     "metadata": {},
     "output_type": "execute_result"
    }
   ],
   "source": [
    "from sklearn.metrics import make_scorer, recall_score\n",
    "param_test1 = {\n",
    " 'max_depth':range(3,10,3),\n",
    " 'min_child_weight':range(1,8,2)\n",
    "}\n",
    "# param_test1 = {\n",
    "#  'max_depth':range(9, 16, 2),\n",
    "#  'min_child_weight': [1]\n",
    "# }\n",
    "\n",
    "gsearch1 = GridSearchCV(estimator = XGBClassifier( learning_rate =0.05, n_estimators=150, max_depth=5,\n",
    " min_child_weight=1, gamma=1, subsample=0.8, colsample_bytree=0.8,\n",
    " objective= 'binary:logistic', nthread=4, scale_pos_weight=1, seed=27), \n",
    " param_grid = param_test1, scoring=\"roc_auc\", n_jobs=-1, cv=5)\n",
    "gsearch1.fit(X_train,Y_train)\n",
    "gsearch1.best_params_, gsearch1.best_score_"
   ]
  },
  {
   "cell_type": "code",
   "execution_count": 191,
   "metadata": {},
   "outputs": [
    {
     "name": "stdout",
     "output_type": "stream",
     "text": [
      "\n",
      "Model Report\n",
      "Accuracy : 0.9916\n",
      "AUC Score (Train): 0.999867\n",
      "AUC Score (Test): 0.813932\n",
      "F1 Macro Score (Test): 0.691467\n",
      "F1 Weighted Score (Test): 0.832363\n",
      "Recall (Test): 0.372917\n"
     ]
    },
    {
     "data": {
      "image/png": "[encoded data removed]",
      "text/plain": [
       "<Figure size 432x288 with 1 Axes>"
      ]
     },
     "metadata": {
      "needs_background": "light"
     },
     "output_type": "display_data"
    }
   ],
   "source": [
    "xgb1 = XGBClassifier(\n",
    " learning_rate =0.05,\n",
    " n_estimators=1000,\n",
    " **gsearch1.best_params_, \n",
    " gamma=1,\n",
    " subsample=0.8,\n",
    " colsample_bytree=0.8,\n",
    " objective= 'binary:logistic',\n",
    " nthread=4,\n",
    " scale_pos_weight=1,\n",
    " seed=27)\n",
    "xgb_estimator, test_pred_prob, test_pred_class = modelfit(xgb1, DataTrain, predictorList, X_test=X_test, Y_test=Y_test)"
   ]
  },
  {
   "cell_type": "code",
   "execution_count": 192,
   "metadata": {},
   "outputs": [
    {
     "data": {
      "text/html": [
       "<div>\n",
       "<style scoped>\n",
       "    .dataframe tbody tr th:only-of-type {\n",
       "        vertical-align: middle;\n",
       "    }\n",
       "\n",
       "    .dataframe tbody tr th {\n",
       "        vertical-align: top;\n",
       "    }\n",
       "\n",
       "    .dataframe thead th {\n",
       "        text-align: right;\n",
       "    }\n",
       "</style>\n",
       "<table border=\"1\" class=\"dataframe\">\n",
       "  <thead>\n",
       "    <tr style=\"text-align: right;\">\n",
       "      <th></th>\n",
       "      <th>precision</th>\n",
       "      <th>recall</th>\n",
       "      <th>f1-score</th>\n",
       "      <th>support</th>\n",
       "    </tr>\n",
       "  </thead>\n",
       "  <tbody>\n",
       "    <tr>\n",
       "      <th>0</th>\n",
       "      <td>0.873583</td>\n",
       "      <td>0.953691</td>\n",
       "      <td>0.911881</td>\n",
       "      <td>2181.000000</td>\n",
       "    </tr>\n",
       "    <tr>\n",
       "      <th>1</th>\n",
       "      <td>0.639286</td>\n",
       "      <td>0.372917</td>\n",
       "      <td>0.471053</td>\n",
       "      <td>480.000000</td>\n",
       "    </tr>\n",
       "    <tr>\n",
       "      <th>accuracy</th>\n",
       "      <td>0.848929</td>\n",
       "      <td>0.848929</td>\n",
       "      <td>0.848929</td>\n",
       "      <td>0.848929</td>\n",
       "    </tr>\n",
       "    <tr>\n",
       "      <th>macro avg</th>\n",
       "      <td>0.756434</td>\n",
       "      <td>0.663304</td>\n",
       "      <td>0.691467</td>\n",
       "      <td>2661.000000</td>\n",
       "    </tr>\n",
       "    <tr>\n",
       "      <th>weighted avg</th>\n",
       "      <td>0.831319</td>\n",
       "      <td>0.848929</td>\n",
       "      <td>0.832363</td>\n",
       "      <td>2661.000000</td>\n",
       "    </tr>\n",
       "  </tbody>\n",
       "</table>\n",
       "</div>"
      ],
      "text/plain": [
       "              precision    recall  f1-score      support\n",
       "0              0.873583  0.953691  0.911881  2181.000000\n",
       "1              0.639286  0.372917  0.471053   480.000000\n",
       "accuracy       0.848929  0.848929  0.848929     0.848929\n",
       "macro avg      0.756434  0.663304  0.691467  2661.000000\n",
       "weighted avg   0.831319  0.848929  0.832363  2661.000000"
      ]
     },
     "execution_count": 192,
     "metadata": {},
     "output_type": "execute_result"
    }
   ],
   "source": [
    "report_train = classification_report(Y_test,test_pred_class,output_dict=True)\n",
    "pd.DataFrame(report_train).T"
   ]
  },
  {
   "cell_type": "code",
   "execution_count": 157,
   "metadata": {},
   "outputs": [
    {
     "data": {
      "text/plain": [
       "<bound method XGBModel.get_params of XGBClassifier(base_score=None, booster=None, callbacks=None,\n",
       "              colsample_bylevel=None, colsample_bynode=None,\n",
       "              colsample_bytree=0.8, early_stopping_rounds=None,\n",
       "              enable_categorical=False, eval_metric=None, feature_types=None,\n",
       "              gamma=1, gpu_id=None, grow_policy=None, importance_type=None,\n",
       "              interaction_constraints=None, learning_rate=0.05, max_bin=None,\n",
       "              max_cat_threshold=None, max_cat_to_onehot=None,\n",
       "              max_delta_step=None, max_depth=9, max_leaves=None,\n",
       "              min_child_weight=1, missing=nan, monotone_constraints=None,\n",
       "              n_estimators=831, n_jobs=None, nthread=4, num_parallel_tree=None,\n",
       "              predictor=None, ...)>"
      ]
     },
     "execution_count": 157,
     "metadata": {},
     "output_type": "execute_result"
    }
   ],
   "source": [
    "xgb_estimator.get_params"
   ]
  },
  {
   "cell_type": "code",
   "execution_count": 193,
   "metadata": {},
   "outputs": [
    {
     "data": {
      "text/plain": [
       "({'gamma': 0.0, 'max_depth': 9, 'min_child_weight': 1}, 0.8230461413831996)"
      ]
     },
     "execution_count": 193,
     "metadata": {},
     "output_type": "execute_result"
    }
   ],
   "source": [
    "param_test3 = {\n",
    " 'gamma':[i/10.0 for i in range(0,5)],'max_depth': [9], 'min_child_weight': [1]\n",
    "}\n",
    "gsearch3 = GridSearchCV(estimator = XGBClassifier( learning_rate =0.05, n_estimators=831, subsample=0.8, colsample_bytree=0.8,\n",
    " objective= 'binary:logistic', nthread=4, scale_pos_weight=1,seed=27), \n",
    " param_grid = param_test3, scoring=scoring, n_jobs=-1, cv=5)\n",
    "gsearch3.fit(X_train,Y_train)\n",
    "gsearch3.best_params_, gsearch3.best_score_"
   ]
  },
  {
   "cell_type": "code",
   "execution_count": 161,
   "metadata": {},
   "outputs": [
    {
     "name": "stdout",
     "output_type": "stream",
     "text": [
      "\n",
      "Model Report\n",
      "Accuracy : 0.999\n",
      "AUC Score (Train): 0.999998\n",
      "AUC Score (Test): 0.743023\n",
      "F1 Macro Score (Test): 0.641326\n",
      "F1 Weighted Score (Test): 0.795297\n",
      "Recall (Test): 0.364583\n"
     ]
    },
    {
     "data": {
      "image/png": "[encoded data removed]",
      "text/plain": [
       "<Figure size 432x288 with 1 Axes>"
      ]
     },
     "metadata": {
      "needs_background": "light"
     },
     "output_type": "display_data"
    }
   ],
   "source": [
    "xgb2 = XGBClassifier( learning_rate =0.05, n_estimators=1000, **gsearch3.best_params_, subsample=0.8, colsample_bytree=0.8,\n",
    " objective= 'binary:logistic', nthread=4, scale_pos_weight=1,seed=27)\n",
    "xgb_estimator, test_pred_prob, test_pred_class = modelfit(xgb2, DataTrain, predictorList, X_test=X_test, Y_test=Y_test)"
   ]
  },
  {
   "cell_type": "code",
   "execution_count": 162,
   "metadata": {},
   "outputs": [
    {
     "data": {
      "text/html": [
       "<div>\n",
       "<style scoped>\n",
       "    .dataframe tbody tr th:only-of-type {\n",
       "        vertical-align: middle;\n",
       "    }\n",
       "\n",
       "    .dataframe tbody tr th {\n",
       "        vertical-align: top;\n",
       "    }\n",
       "\n",
       "    .dataframe thead th {\n",
       "        text-align: right;\n",
       "    }\n",
       "</style>\n",
       "<table border=\"1\" class=\"dataframe\">\n",
       "  <thead>\n",
       "    <tr style=\"text-align: right;\">\n",
       "      <th></th>\n",
       "      <th>precision</th>\n",
       "      <th>recall</th>\n",
       "      <th>f1-score</th>\n",
       "      <th>support</th>\n",
       "    </tr>\n",
       "  </thead>\n",
       "  <tbody>\n",
       "    <tr>\n",
       "      <th>0</th>\n",
       "      <td>0.865461</td>\n",
       "      <td>0.899587</td>\n",
       "      <td>0.882194</td>\n",
       "      <td>2181.000000</td>\n",
       "    </tr>\n",
       "    <tr>\n",
       "      <th>1</th>\n",
       "      <td>0.444162</td>\n",
       "      <td>0.364583</td>\n",
       "      <td>0.400458</td>\n",
       "      <td>480.000000</td>\n",
       "    </tr>\n",
       "    <tr>\n",
       "      <th>accuracy</th>\n",
       "      <td>0.803082</td>\n",
       "      <td>0.803082</td>\n",
       "      <td>0.803082</td>\n",
       "      <td>0.803082</td>\n",
       "    </tr>\n",
       "    <tr>\n",
       "      <th>macro avg</th>\n",
       "      <td>0.654812</td>\n",
       "      <td>0.632085</td>\n",
       "      <td>0.641326</td>\n",
       "      <td>2661.000000</td>\n",
       "    </tr>\n",
       "    <tr>\n",
       "      <th>weighted avg</th>\n",
       "      <td>0.789466</td>\n",
       "      <td>0.803082</td>\n",
       "      <td>0.795297</td>\n",
       "      <td>2661.000000</td>\n",
       "    </tr>\n",
       "  </tbody>\n",
       "</table>\n",
       "</div>"
      ],
      "text/plain": [
       "              precision    recall  f1-score      support\n",
       "0              0.865461  0.899587  0.882194  2181.000000\n",
       "1              0.444162  0.364583  0.400458   480.000000\n",
       "accuracy       0.803082  0.803082  0.803082     0.803082\n",
       "macro avg      0.654812  0.632085  0.641326  2661.000000\n",
       "weighted avg   0.789466  0.803082  0.795297  2661.000000"
      ]
     },
     "execution_count": 162,
     "metadata": {},
     "output_type": "execute_result"
    }
   ],
   "source": [
    "report_train = classification_report(Y_test,test_pred_class,output_dict=True)\n",
    "pd.DataFrame(report_train).T"
   ]
  },
  {
   "cell_type": "code",
   "execution_count": 163,
   "metadata": {},
   "outputs": [
    {
     "data": {
      "text/plain": [
       "<bound method XGBModel.get_params of XGBClassifier(base_score=None, booster=None, callbacks=None,\n",
       "              colsample_bylevel=None, colsample_bynode=None,\n",
       "              colsample_bytree=0.8, early_stopping_rounds=None,\n",
       "              enable_categorical=False, eval_metric=None, feature_types=None,\n",
       "              gamma=0.0, gpu_id=None, grow_policy=None, importance_type=None,\n",
       "              interaction_constraints=None, learning_rate=0.05, max_bin=None,\n",
       "              max_cat_threshold=None, max_cat_to_onehot=None,\n",
       "              max_delta_step=None, max_depth=9, max_leaves=None,\n",
       "              min_child_weight=1, missing=nan, monotone_constraints=None,\n",
       "              n_estimators=843, n_jobs=None, nthread=4, num_parallel_tree=None,\n",
       "              predictor=None, ...)>"
      ]
     },
     "execution_count": 163,
     "metadata": {},
     "output_type": "execute_result"
    }
   ],
   "source": [
    "xgb_estimator.get_params"
   ]
  },
  {
   "cell_type": "code",
   "execution_count": 164,
   "metadata": {},
   "outputs": [
    {
     "data": {
      "text/plain": [
       "({'colsample_bytree': 0.9,\n",
       "  'gamma': 0,\n",
       "  'max_depth': 9,\n",
       "  'min_child_weight': 1,\n",
       "  'subsample': 0.6},\n",
       " 0.8351365044138295)"
      ]
     },
     "execution_count": 164,
     "metadata": {},
     "output_type": "execute_result"
    }
   ],
   "source": [
    "param_test4 = {\n",
    " 'subsample':[i/10.0 for i in range(6,10)],\n",
    " 'colsample_bytree':[i/10.0 for i in range(6,10)],\n",
    " 'gamma':[0],'max_depth': [9], 'min_child_weight': [1]\n",
    "}\n",
    "gsearch4 = GridSearchCV(estimator = XGBClassifier( learning_rate =0.05, n_estimators=842, subsample=0.8, colsample_bytree=0.8,\n",
    " objective= 'binary:logistic', nthread=4, scale_pos_weight=1,seed=27), \n",
    " param_grid = param_test4, scoring=scoring ,n_jobs=-1, cv=5)\n",
    "gsearch4.fit(X_train,Y_train)\n",
    "gsearch4.best_params_, gsearch4.best_score_"
   ]
  },
  {
   "cell_type": "code",
   "execution_count": 50,
   "metadata": {},
   "outputs": [
    {
     "data": {
      "text/plain": [
       "({'colsample_bytree': 0.5, 'subsample': 1.0}, 0.9605029543896622)"
      ]
     },
     "execution_count": 50,
     "metadata": {},
     "output_type": "execute_result"
    }
   ],
   "source": [
    "param_test5 = {\n",
    " 'subsample':[i/10.0 for i in range(9,11)],\n",
    " 'colsample_bytree':[i/10.0 for i in range(5,8)]\n",
    "}\n",
    "gsearch5 = GridSearchCV(estimator = XGBClassifier( learning_rate =0.1, n_estimators=113, max_depth=14,\n",
    " min_child_weight=3, gamma=0.4, subsample=0.9, colsample_bytree=0.9,\n",
    " objective= 'binary:logistic', nthread=4, scale_pos_weight=1,seed=27), \n",
    " param_grid = param_test5, scoring=scoring , n_jobs=-1, cv=5)\n",
    "gsearch5.fit(X_train,Y_train)\n",
    "gsearch5.best_params_, gsearch5.best_score_"
   ]
  },
  {
   "cell_type": "code",
   "execution_count": 167,
   "metadata": {},
   "outputs": [
    {
     "data": {
      "text/plain": [
       "({'colsample_bytree': 0.9,\n",
       "  'gamma': 0,\n",
       "  'max_depth': 9,\n",
       "  'min_child_weight': 1,\n",
       "  'reg_alpha': 1,\n",
       "  'subsample': 0.6},\n",
       " 0.8390148525554366)"
      ]
     },
     "execution_count": 167,
     "metadata": {},
     "output_type": "execute_result"
    }
   ],
   "source": [
    "param_test6 = {\n",
    "     'subsample':[0.6],\n",
    " 'colsample_bytree':[0.9],\n",
    " 'gamma':[0],'max_depth': [9], 'min_child_weight': [1], \n",
    " 'reg_alpha':[1e-5, 1e-2, 0.1, 1, 100]\n",
    "}\n",
    "gsearch6 = GridSearchCV(estimator = XGBClassifier( learning_rate =0.05, n_estimators=800, \n",
    " objective= 'binary:logistic', nthread=4, scale_pos_weight=1,seed=27), \n",
    " param_grid = param_test6, scoring=scoring , n_jobs=-1, cv=5)\n",
    "gsearch6.fit(X_train,Y_train)\n",
    "gsearch6.best_params_, gsearch6.best_score_"
   ]
  },
  {
   "cell_type": "code",
   "execution_count": 168,
   "metadata": {},
   "outputs": [
    {
     "name": "stdout",
     "output_type": "stream",
     "text": [
      "\n",
      "Model Report\n",
      "Accuracy : 0.9996\n",
      "AUC Score (Train): 1.000000\n",
      "AUC Score (Test): 0.739588\n",
      "F1 Macro Score (Test): 0.639773\n",
      "F1 Weighted Score (Test): 0.789738\n",
      "Recall (Test): 0.391667\n"
     ]
    },
    {
     "data": {
      "image/png": "[encoded data removed]",
      "text/plain": [
       "<Figure size 432x288 with 1 Axes>"
      ]
     },
     "metadata": {
      "needs_background": "light"
     },
     "output_type": "display_data"
    }
   ],
   "source": [
    "xgb3 = XGBClassifier( learning_rate =0.05, n_estimators=1000, **gsearch6.best_params_, \n",
    " objective= 'binary:logistic', nthread=4, scale_pos_weight=1,seed=27)\n",
    "xgb_estimator, test_pred_prob, test_pred_class = modelfit(xgb3, DataTrain, predictorList, X_test=X_test, Y_test=Y_test)"
   ]
  },
  {
   "cell_type": "code",
   "execution_count": 169,
   "metadata": {},
   "outputs": [
    {
     "data": {
      "text/html": [
       "<div>\n",
       "<style scoped>\n",
       "    .dataframe tbody tr th:only-of-type {\n",
       "        vertical-align: middle;\n",
       "    }\n",
       "\n",
       "    .dataframe tbody tr th {\n",
       "        vertical-align: top;\n",
       "    }\n",
       "\n",
       "    .dataframe thead th {\n",
       "        text-align: right;\n",
       "    }\n",
       "</style>\n",
       "<table border=\"1\" class=\"dataframe\">\n",
       "  <thead>\n",
       "    <tr style=\"text-align: right;\">\n",
       "      <th></th>\n",
       "      <th>precision</th>\n",
       "      <th>recall</th>\n",
       "      <th>f1-score</th>\n",
       "      <th>support</th>\n",
       "    </tr>\n",
       "  </thead>\n",
       "  <tbody>\n",
       "    <tr>\n",
       "      <th>0</th>\n",
       "      <td>0.868052</td>\n",
       "      <td>0.880789</td>\n",
       "      <td>0.874374</td>\n",
       "      <td>2181.000000</td>\n",
       "    </tr>\n",
       "    <tr>\n",
       "      <th>1</th>\n",
       "      <td>0.419643</td>\n",
       "      <td>0.391667</td>\n",
       "      <td>0.405172</td>\n",
       "      <td>480.000000</td>\n",
       "    </tr>\n",
       "    <tr>\n",
       "      <th>accuracy</th>\n",
       "      <td>0.792559</td>\n",
       "      <td>0.792559</td>\n",
       "      <td>0.792559</td>\n",
       "      <td>0.792559</td>\n",
       "    </tr>\n",
       "    <tr>\n",
       "      <th>macro avg</th>\n",
       "      <td>0.643848</td>\n",
       "      <td>0.636228</td>\n",
       "      <td>0.639773</td>\n",
       "      <td>2661.000000</td>\n",
       "    </tr>\n",
       "    <tr>\n",
       "      <th>weighted avg</th>\n",
       "      <td>0.787167</td>\n",
       "      <td>0.792559</td>\n",
       "      <td>0.789738</td>\n",
       "      <td>2661.000000</td>\n",
       "    </tr>\n",
       "  </tbody>\n",
       "</table>\n",
       "</div>"
      ],
      "text/plain": [
       "              precision    recall  f1-score      support\n",
       "0              0.868052  0.880789  0.874374  2181.000000\n",
       "1              0.419643  0.391667  0.405172   480.000000\n",
       "accuracy       0.792559  0.792559  0.792559     0.792559\n",
       "macro avg      0.643848  0.636228  0.639773  2661.000000\n",
       "weighted avg   0.787167  0.792559  0.789738  2661.000000"
      ]
     },
     "execution_count": 169,
     "metadata": {},
     "output_type": "execute_result"
    }
   ],
   "source": [
    "report_train = classification_report(Y_test,test_pred_class,output_dict=True)\n",
    "pd.DataFrame(report_train).T"
   ]
  },
  {
   "cell_type": "code",
   "execution_count": 194,
   "metadata": {},
   "outputs": [
    {
     "name": "stdout",
     "output_type": "stream",
     "text": [
      "\n",
      "Model Report\n",
      "Accuracy : 0.9919\n",
      "AUC Score (Train): 0.999895\n",
      "AUC Score (Test): 0.818285\n",
      "F1 Macro Score (Test): 0.691528\n",
      "F1 Weighted Score (Test): 0.831877\n",
      "Recall (Test): 0.377083\n"
     ]
    },
    {
     "data": {
      "image/png": "[encoded data removed]",
      "text/plain": [
       "<Figure size 432x288 with 1 Axes>"
      ]
     },
     "metadata": {
      "needs_background": "light"
     },
     "output_type": "display_data"
    }
   ],
   "source": [
    "xgb4 = XGBClassifier( learning_rate =0.01, n_estimators=5000, **gsearch6.best_params_,\n",
    " objective= 'binary:logistic', nthread=4, scale_pos_weight=1,seed=27)\n",
    "xgb_estimator, test_pred_prob, test_pred_class = modelfit(xgb4, DataTrain, predictorList, X_test=X_test, Y_test=Y_test)"
   ]
  },
  {
   "cell_type": "code",
   "execution_count": 195,
   "metadata": {},
   "outputs": [
    {
     "data": {
      "text/html": [
       "<div>\n",
       "<style scoped>\n",
       "    .dataframe tbody tr th:only-of-type {\n",
       "        vertical-align: middle;\n",
       "    }\n",
       "\n",
       "    .dataframe tbody tr th {\n",
       "        vertical-align: top;\n",
       "    }\n",
       "\n",
       "    .dataframe thead th {\n",
       "        text-align: right;\n",
       "    }\n",
       "</style>\n",
       "<table border=\"1\" class=\"dataframe\">\n",
       "  <thead>\n",
       "    <tr style=\"text-align: right;\">\n",
       "      <th></th>\n",
       "      <th>precision</th>\n",
       "      <th>recall</th>\n",
       "      <th>f1-score</th>\n",
       "      <th>support</th>\n",
       "    </tr>\n",
       "  </thead>\n",
       "  <tbody>\n",
       "    <tr>\n",
       "      <th>0</th>\n",
       "      <td>0.874052</td>\n",
       "      <td>0.951398</td>\n",
       "      <td>0.911087</td>\n",
       "      <td>2181.000000</td>\n",
       "    </tr>\n",
       "    <tr>\n",
       "      <th>1</th>\n",
       "      <td>0.630662</td>\n",
       "      <td>0.377083</td>\n",
       "      <td>0.471969</td>\n",
       "      <td>480.000000</td>\n",
       "    </tr>\n",
       "    <tr>\n",
       "      <th>accuracy</th>\n",
       "      <td>0.847802</td>\n",
       "      <td>0.847802</td>\n",
       "      <td>0.847802</td>\n",
       "      <td>0.847802</td>\n",
       "    </tr>\n",
       "    <tr>\n",
       "      <th>macro avg</th>\n",
       "      <td>0.752357</td>\n",
       "      <td>0.664241</td>\n",
       "      <td>0.691528</td>\n",
       "      <td>2661.000000</td>\n",
       "    </tr>\n",
       "    <tr>\n",
       "      <th>weighted avg</th>\n",
       "      <td>0.830149</td>\n",
       "      <td>0.847802</td>\n",
       "      <td>0.831877</td>\n",
       "      <td>2661.000000</td>\n",
       "    </tr>\n",
       "  </tbody>\n",
       "</table>\n",
       "</div>"
      ],
      "text/plain": [
       "              precision    recall  f1-score      support\n",
       "0              0.874052  0.951398  0.911087  2181.000000\n",
       "1              0.630662  0.377083  0.471969   480.000000\n",
       "accuracy       0.847802  0.847802  0.847802     0.847802\n",
       "macro avg      0.752357  0.664241  0.691528  2661.000000\n",
       "weighted avg   0.830149  0.847802  0.831877  2661.000000"
      ]
     },
     "execution_count": 195,
     "metadata": {},
     "output_type": "execute_result"
    }
   ],
   "source": [
    "report_train = classification_report(Y_test,test_pred_class,output_dict=True)\n",
    "pd.DataFrame(report_train).T"
   ]
  },
  {
   "cell_type": "code",
   "execution_count": 196,
   "metadata": {},
   "outputs": [
    {
     "data": {
      "text/plain": [
       "array([[2075,  106],\n",
       "       [ 299,  181]], dtype=int64)"
      ]
     },
     "execution_count": 196,
     "metadata": {},
     "output_type": "execute_result"
    }
   ],
   "source": [
    "confusion_matrix(Y_test,test_pred_class)"
   ]
  },
  {
   "cell_type": "code",
   "execution_count": 199,
   "metadata": {},
   "outputs": [
    {
     "data": {
      "text/html": [
       "<div>\n",
       "<style scoped>\n",
       "    .dataframe tbody tr th:only-of-type {\n",
       "        vertical-align: middle;\n",
       "    }\n",
       "\n",
       "    .dataframe tbody tr th {\n",
       "        vertical-align: top;\n",
       "    }\n",
       "\n",
       "    .dataframe thead th {\n",
       "        text-align: right;\n",
       "    }\n",
       "</style>\n",
       "<table border=\"1\" class=\"dataframe\">\n",
       "  <thead>\n",
       "    <tr style=\"text-align: right;\">\n",
       "      <th></th>\n",
       "      <th>precision</th>\n",
       "      <th>recall</th>\n",
       "      <th>f1-score</th>\n",
       "      <th>support</th>\n",
       "    </tr>\n",
       "  </thead>\n",
       "  <tbody>\n",
       "    <tr>\n",
       "      <th>0</th>\n",
       "      <td>0.937940</td>\n",
       "      <td>0.672169</td>\n",
       "      <td>0.783120</td>\n",
       "      <td>2181.000000</td>\n",
       "    </tr>\n",
       "    <tr>\n",
       "      <th>1</th>\n",
       "      <td>0.348816</td>\n",
       "      <td>0.797917</td>\n",
       "      <td>0.485425</td>\n",
       "      <td>480.000000</td>\n",
       "    </tr>\n",
       "    <tr>\n",
       "      <th>accuracy</th>\n",
       "      <td>0.694852</td>\n",
       "      <td>0.694852</td>\n",
       "      <td>0.694852</td>\n",
       "      <td>0.694852</td>\n",
       "    </tr>\n",
       "    <tr>\n",
       "      <th>macro avg</th>\n",
       "      <td>0.643378</td>\n",
       "      <td>0.735043</td>\n",
       "      <td>0.634272</td>\n",
       "      <td>2661.000000</td>\n",
       "    </tr>\n",
       "    <tr>\n",
       "      <th>weighted avg</th>\n",
       "      <td>0.831672</td>\n",
       "      <td>0.694852</td>\n",
       "      <td>0.729420</td>\n",
       "      <td>2661.000000</td>\n",
       "    </tr>\n",
       "  </tbody>\n",
       "</table>\n",
       "</div>"
      ],
      "text/plain": [
       "              precision    recall  f1-score      support\n",
       "0              0.937940  0.672169  0.783120  2181.000000\n",
       "1              0.348816  0.797917  0.485425   480.000000\n",
       "accuracy       0.694852  0.694852  0.694852     0.694852\n",
       "macro avg      0.643378  0.735043  0.634272  2661.000000\n",
       "weighted avg   0.831672  0.694852  0.729420  2661.000000"
      ]
     },
     "execution_count": 199,
     "metadata": {},
     "output_type": "execute_result"
    }
   ],
   "source": [
    "new_threshold = 0.1\n",
    "y_new_prediction = np.where(test_pred_prob >= new_threshold, 1, 0)\n",
    "report_pre = classification_report(Y_test, y_new_prediction, output_dict=True)\n",
    "pd.DataFrame(report_pre).T"
   ]
  },
  {
   "attachments": {},
   "cell_type": "markdown",
   "metadata": {},
   "source": [
    "#### SVM"
   ]
  },
  {
   "cell_type": "code",
   "execution_count": 123,
   "metadata": {},
   "outputs": [],
   "source": [
    "X_train, X_test, y_train, y_test = train_test_split(wkd2019[predictorList], wkd2019[\"FCSStaus\"], test_size=0.2, random_state=527)\n",
    "X_train.reset_index(drop=True,inplace=True)\n",
    "X_test.reset_index(drop=True,inplace=True)\n",
    "y_train.reset_index(drop=True,inplace=True)\n",
    "y_test.reset_index(drop=True,inplace=True)\n",
    "Std_Train, Std_Test = StandardizerTrainTest(X_train, X_test, standardizationList, binaryList_using,freqList_using )\n",
    "X_smote, Y_smote, X_ADA, Y_ADA = resampling(Std_Train, y_train)"
   ]
  },
  {
   "cell_type": "code",
   "execution_count": 124,
   "metadata": {},
   "outputs": [
    {
     "data": {
      "text/plain": [
       "(2661, 9)"
      ]
     },
     "execution_count": 124,
     "metadata": {},
     "output_type": "execute_result"
    }
   ],
   "source": [
    "Std_Test.shape"
   ]
  },
  {
   "cell_type": "code",
   "execution_count": 137,
   "metadata": {},
   "outputs": [
    {
     "data": {
      "text/plain": [
       "{'C': 1, 'kernel': 'rbf'}"
      ]
     },
     "execution_count": 137,
     "metadata": {},
     "output_type": "execute_result"
    }
   ],
   "source": [
    "kernels = list(['linear', 'poly', 'rbf', 'sigmoid'])\n",
    "c = list([0.001,0.01, 0.1, 1])\n",
    "# gammas = list([0.1, 1, 10])\n",
    "\n",
    "X_train = X_smote\n",
    "Y_train = Y_smote\n",
    "\n",
    "X_test = Std_Test\n",
    "Y_test = y_test\n",
    "\n",
    "clf = SVC(class_weight='balanced')\n",
    "param_grid = dict(kernel=kernels, C=c)\n",
    "grid = GridSearchCV(clf, param_grid, cv=5, n_jobs=-1, scoring=scoring)\n",
    "grid.fit(X_train, Y_train)\n",
    "grid.best_params_"
   ]
  },
  {
   "cell_type": "code",
   "execution_count": 138,
   "metadata": {},
   "outputs": [
    {
     "data": {
      "text/plain": [
       "{'C': 10}"
      ]
     },
     "execution_count": 138,
     "metadata": {},
     "output_type": "execute_result"
    }
   ],
   "source": [
    "c = list([1,10,100])\n",
    "\n",
    "clf = SVC(kernel = 'rbf', class_weight='balanced')\n",
    "param_grid = dict(C=c)\n",
    "grid = GridSearchCV(clf, param_grid, cv=5, n_jobs=-1, scoring=scoring)\n",
    "grid.fit(X_train, Y_train)\n",
    "grid.best_params_"
   ]
  },
  {
   "cell_type": "code",
   "execution_count": 139,
   "metadata": {},
   "outputs": [
    {
     "data": {
      "text/plain": [
       "{'gamma': 10}"
      ]
     },
     "execution_count": 139,
     "metadata": {},
     "output_type": "execute_result"
    }
   ],
   "source": [
    "gammas = list([0.001, 0.01, 0.1, 1, 10])\n",
    "clf = SVC(C = 10, kernel='rbf',  class_weight='balanced')\n",
    "clf.fit(X_train, Y_train)\n",
    "param_grid = dict(gamma = gammas)\n",
    "grid = GridSearchCV(clf, param_grid, cv=5, n_jobs=-1, scoring=scoring)\n",
    "grid.fit(X_train, Y_train)\n",
    "grid.best_params_"
   ]
  },
  {
   "cell_type": "code",
   "execution_count": 140,
   "metadata": {},
   "outputs": [
    {
     "data": {
      "text/plain": [
       "{'gamma': 10}"
      ]
     },
     "execution_count": 140,
     "metadata": {},
     "output_type": "execute_result"
    }
   ],
   "source": [
    "gammas = list([10,15,20])\n",
    "clf = SVC(C = 10, kernel='rbf',  class_weight='balanced')\n",
    "clf.fit(X_train, Y_train)\n",
    "param_grid = dict(gamma = gammas)\n",
    "grid = GridSearchCV(clf, param_grid, cv=5, n_jobs=-1, scoring=scoring)\n",
    "grid.fit(X_train, Y_train)\n",
    "grid.best_params_"
   ]
  },
  {
   "cell_type": "code",
   "execution_count": 141,
   "metadata": {},
   "outputs": [
    {
     "data": {
      "text/html": [
       "<div>\n",
       "<style scoped>\n",
       "    .dataframe tbody tr th:only-of-type {\n",
       "        vertical-align: middle;\n",
       "    }\n",
       "\n",
       "    .dataframe tbody tr th {\n",
       "        vertical-align: top;\n",
       "    }\n",
       "\n",
       "    .dataframe thead th {\n",
       "        text-align: right;\n",
       "    }\n",
       "</style>\n",
       "<table border=\"1\" class=\"dataframe\">\n",
       "  <thead>\n",
       "    <tr style=\"text-align: right;\">\n",
       "      <th></th>\n",
       "      <th>precision</th>\n",
       "      <th>recall</th>\n",
       "      <th>f1-score</th>\n",
       "      <th>support</th>\n",
       "    </tr>\n",
       "  </thead>\n",
       "  <tbody>\n",
       "    <tr>\n",
       "      <th>0</th>\n",
       "      <td>0.849321</td>\n",
       "      <td>0.832187</td>\n",
       "      <td>0.840667</td>\n",
       "      <td>2181.000000</td>\n",
       "    </tr>\n",
       "    <tr>\n",
       "      <th>1</th>\n",
       "      <td>0.301527</td>\n",
       "      <td>0.329167</td>\n",
       "      <td>0.314741</td>\n",
       "      <td>480.000000</td>\n",
       "    </tr>\n",
       "    <tr>\n",
       "      <th>accuracy</th>\n",
       "      <td>0.741451</td>\n",
       "      <td>0.741451</td>\n",
       "      <td>0.741451</td>\n",
       "      <td>0.741451</td>\n",
       "    </tr>\n",
       "    <tr>\n",
       "      <th>macro avg</th>\n",
       "      <td>0.575424</td>\n",
       "      <td>0.580677</td>\n",
       "      <td>0.577704</td>\n",
       "      <td>2661.000000</td>\n",
       "    </tr>\n",
       "    <tr>\n",
       "      <th>weighted avg</th>\n",
       "      <td>0.750508</td>\n",
       "      <td>0.741451</td>\n",
       "      <td>0.745799</td>\n",
       "      <td>2661.000000</td>\n",
       "    </tr>\n",
       "  </tbody>\n",
       "</table>\n",
       "</div>"
      ],
      "text/plain": [
       "              precision    recall  f1-score      support\n",
       "0              0.849321  0.832187  0.840667  2181.000000\n",
       "1              0.301527  0.329167  0.314741   480.000000\n",
       "accuracy       0.741451  0.741451  0.741451     0.741451\n",
       "macro avg      0.575424  0.580677  0.577704  2661.000000\n",
       "weighted avg   0.750508  0.741451  0.745799  2661.000000"
      ]
     },
     "execution_count": 141,
     "metadata": {},
     "output_type": "execute_result"
    }
   ],
   "source": [
    "SVMModel = SVC(C = 10, kernel='rbf', gamma=10, class_weight='balanced', probability=True).fit(X_train, Y_train)\n",
    "y_SVMpred_test = SVMModel.predict(X_test)\n",
    "y_SVMpredprob_test = SVMModel.predict_proba(X_test)\n",
    "y_SVMpredprob_train = SVMModel.predict_proba(X_train)\n",
    "\n",
    "report_pre = classification_report(Y_test, y_SVMpred_test, output_dict=True)\n",
    "pd.DataFrame(report_pre).T"
   ]
  },
  {
   "cell_type": "code",
   "execution_count": 142,
   "metadata": {},
   "outputs": [
    {
     "data": {
      "text/plain": [
       "(0.9898191582260193, 0.6181243313464772)"
      ]
     },
     "execution_count": 142,
     "metadata": {},
     "output_type": "execute_result"
    }
   ],
   "source": [
    "roc_auc_score(Y_train, y_SVMpredprob_train[:,1]), roc_auc_score(Y_test, y_SVMpredprob_test[:,1])"
   ]
  }
 ],
 "metadata": {
  "kernelspec": {
   "display_name": "base",
   "language": "python",
   "name": "python3"
  },
  "language_info": {
   "codemirror_mode": {
    "name": "ipython",
    "version": 3
   },
   "file_extension": ".py",
   "mimetype": "text/x-python",
   "name": "python",
   "nbconvert_exporter": "python",
   "pygments_lexer": "ipython3",
   "version": "3.9.12"
  },
  "orig_nbformat": 4
 },
 "nbformat": 4,
 "nbformat_minor": 2
}
